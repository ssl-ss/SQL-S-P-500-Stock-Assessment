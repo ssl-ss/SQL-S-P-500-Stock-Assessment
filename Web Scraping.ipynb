{
 "cells": [
  {
   "cell_type": "code",
   "execution_count": 3,
   "metadata": {},
   "outputs": [
    {
     "name": "stdout",
     "output_type": "stream",
     "text": [
      "Requirement already satisfied: beautifulsoup4 in /Library/Frameworks/Python.framework/Versions/3.9/lib/python3.9/site-packages (4.9.3)\n",
      "Requirement already satisfied: soupsieve>1.2 in /Library/Frameworks/Python.framework/Versions/3.9/lib/python3.9/site-packages (from beautifulsoup4) (2.1)\n",
      "\u001b[33mWARNING: You are using pip version 21.1.3; however, version 21.2.4 is available.\n",
      "You should consider upgrading via the '/Library/Frameworks/Python.framework/Versions/3.9/bin/python3.9 -m pip install --upgrade pip' command.\u001b[0m\n",
      "Note: you may need to restart the kernel to use updated packages.\n"
     ]
    }
   ],
   "source": [
    "!pip install beautifulsoup4"
   ]
  },
  {
   "cell_type": "code",
   "execution_count": 39,
   "metadata": {},
   "outputs": [],
   "source": [
    "from bs4 import BeautifulSoup\n",
    "import pandas as pd\n",
    "import requests\n",
    "import re"
   ]
  },
  {
   "cell_type": "markdown",
   "metadata": {},
   "source": [
    "## S&P500_company_financials.csv\n",
    "#### From Ycharts "
   ]
  },
  {
   "cell_type": "markdown",
   "metadata": {},
   "source": [
    "### Example - AAPL company"
   ]
  },
  {
   "cell_type": "code",
   "execution_count": 412,
   "metadata": {},
   "outputs": [],
   "source": [
    "URL = \"https://ycharts.com/companies/AAPL\"\n",
    "page = requests.get(URL)\n",
    "soup = BeautifulSoup(page.content, \"html5lib\")\n",
    "table = soup.find_all(class_ = \"col2\")"
   ]
  },
  {
   "cell_type": "code",
   "execution_count": 107,
   "metadata": {
    "scrolled": true
   },
   "outputs": [
    {
     "data": {
      "text/plain": [
       "<td class=\"col2\">\n",
       "                            \n",
       "                                \n",
       "                                    <a class=\"iconChart rt\" href=\"/companies/AAPL/chart/#/?annotations=&amp;annualizedReturns=false&amp;calcs=id:net_income_ttm,include:true,,&amp;chartType=interactive&amp;correlations=&amp;dateSelection=range&amp;displayDateRange=false&amp;displayTicker=false&amp;endDate=&amp;format=real&amp;legendOnChart=true&amp;maxPoints=&amp;note=&amp;partner=&amp;quoteLegend=true&amp;quotes=&amp;recessions=false&amp;redesign=false&amp;scaleType=linear&amp;securities=id:AAPL,include:true,,&amp;securityGroup=&amp;securitylistName=&amp;securitylistSecurityId=&amp;source=false&amp;splitType=single&amp;startDate=&amp;title=&amp;units=false&amp;useCustomColors=false&amp;useEstimates=false&amp;zoom=5\"></a>\n",
       "                                \n",
       "\n",
       "                                86.80B\n",
       "                            \n",
       "                        </td>"
      ]
     },
     "execution_count": 107,
     "metadata": {},
     "output_type": "execute_result"
    }
   ],
   "source": [
    "table[5]#net income:86.80B "
   ]
  },
  {
   "cell_type": "code",
   "execution_count": 108,
   "metadata": {},
   "outputs": [
    {
     "data": {
      "text/plain": [
       "<td class=\"col2\">\n",
       "                            \n",
       "                                \n",
       "                                    <a class=\"iconChart rt\" href=\"/companies/AAPL/chart/#/?annotations=&amp;annualizedReturns=false&amp;calcs=id:dividend_yield,include:true,,&amp;chartType=interactive&amp;correlations=&amp;dateSelection=range&amp;displayDateRange=false&amp;displayTicker=false&amp;endDate=&amp;format=real&amp;legendOnChart=true&amp;maxPoints=&amp;note=&amp;partner=&amp;quoteLegend=true&amp;quotes=&amp;recessions=false&amp;redesign=false&amp;scaleType=linear&amp;securities=id:AAPL,include:true,,&amp;securityGroup=&amp;securitylistName=&amp;securitylistSecurityId=&amp;source=false&amp;splitType=single&amp;startDate=&amp;title=&amp;units=false&amp;useCustomColors=false&amp;useEstimates=false&amp;zoom=5\"></a>\n",
       "                                \n",
       "\n",
       "                                0.59%\n",
       "                            \n",
       "                        </td>"
      ]
     },
     "execution_count": 108,
     "metadata": {},
     "output_type": "execute_result"
    }
   ],
   "source": [
    "table[11] #DY:0.59%"
   ]
  },
  {
   "cell_type": "code",
   "execution_count": 109,
   "metadata": {},
   "outputs": [
    {
     "data": {
      "text/plain": [
       "<td class=\"col2\">\n",
       "                            \n",
       "                                \n",
       "                                    <a class=\"iconChart rt\" href=\"/companies/AAPL/chart/#/?annotations=&amp;annualizedReturns=false&amp;calcs=id:ps_ratio,include:true,,&amp;chartType=interactive&amp;correlations=&amp;dateSelection=range&amp;displayDateRange=false&amp;displayTicker=false&amp;endDate=&amp;format=real&amp;legendOnChart=true&amp;maxPoints=&amp;note=&amp;partner=&amp;quoteLegend=true&amp;quotes=&amp;recessions=false&amp;redesign=false&amp;scaleType=linear&amp;securities=id:AAPL,include:true,,&amp;securityGroup=&amp;securitylistName=&amp;securitylistSecurityId=&amp;source=false&amp;splitType=single&amp;startDate=&amp;title=&amp;units=false&amp;useCustomColors=false&amp;useEstimates=false&amp;zoom=5\"></a>\n",
       "                                \n",
       "\n",
       "                                7.071\n",
       "                            \n",
       "                        </td>"
      ]
     },
     "execution_count": 109,
     "metadata": {},
     "output_type": "execute_result"
    }
   ],
   "source": [
    "table[16] #PS:7.071"
   ]
  },
  {
   "cell_type": "code",
   "execution_count": 110,
   "metadata": {},
   "outputs": [
    {
     "data": {
      "text/plain": [
       "<td class=\"col2\">\n",
       "                            \n",
       "                                \n",
       "                                    <a class=\"iconChart rt\" href=\"/companies/AAPL/chart/#/?annotations=&amp;annualizedReturns=false&amp;calcs=id:pe_ratio,include:true,,&amp;chartType=interactive&amp;correlations=&amp;dateSelection=range&amp;displayDateRange=false&amp;displayTicker=false&amp;endDate=&amp;format=real&amp;legendOnChart=true&amp;maxPoints=&amp;note=&amp;partner=&amp;quoteLegend=true&amp;quotes=&amp;recessions=false&amp;redesign=false&amp;scaleType=linear&amp;securities=id:AAPL,include:true,,&amp;securityGroup=&amp;securitylistName=&amp;securitylistSecurityId=&amp;source=false&amp;splitType=single&amp;startDate=&amp;title=&amp;units=false&amp;useCustomColors=false&amp;useEstimates=false&amp;zoom=5\"></a>\n",
       "                                \n",
       "\n",
       "                                28.23\n",
       "                            \n",
       "                        </td>"
      ]
     },
     "execution_count": 110,
     "metadata": {},
     "output_type": "execute_result"
    }
   ],
   "source": [
    "table[17] #PE:28.23"
   ]
  },
  {
   "cell_type": "code",
   "execution_count": 111,
   "metadata": {
    "scrolled": true
   },
   "outputs": [
    {
     "data": {
      "text/plain": [
       "<td class=\"col2\">\n",
       "                            \n",
       "                                \n",
       "                                    <a class=\"iconChart rt\" href=\"/companies/AAPL/chart/#/?annotations=&amp;annualizedReturns=false&amp;calcs=id:price_to_book_value,include:true,,&amp;chartType=interactive&amp;correlations=&amp;dateSelection=range&amp;displayDateRange=false&amp;displayTicker=false&amp;endDate=&amp;format=real&amp;legendOnChart=true&amp;maxPoints=&amp;note=&amp;partner=&amp;quoteLegend=true&amp;quotes=&amp;recessions=false&amp;redesign=false&amp;scaleType=linear&amp;securities=id:AAPL,include:true,,&amp;securityGroup=&amp;securitylistName=&amp;securitylistSecurityId=&amp;source=false&amp;splitType=single&amp;startDate=&amp;title=&amp;units=false&amp;useCustomColors=false&amp;useEstimates=false&amp;zoom=5\"></a>\n",
       "                                \n",
       "\n",
       "                                37.09\n",
       "                            \n",
       "                        </td>"
      ]
     },
     "execution_count": 111,
     "metadata": {},
     "output_type": "execute_result"
    }
   ],
   "source": [
    "table[18] #PB:37.09"
   ]
  },
  {
   "cell_type": "code",
   "execution_count": 112,
   "metadata": {},
   "outputs": [
    {
     "data": {
      "text/plain": [
       "<td class=\"col2\">\n",
       "                            \n",
       "                                \n",
       "                                    <a class=\"iconChart rt\" href=\"/companies/AAPL/chart/#/?annotations=&amp;annualizedReturns=false&amp;calcs=id:debt_equity_ratio,include:true,,&amp;chartType=interactive&amp;correlations=&amp;dateSelection=range&amp;displayDateRange=false&amp;displayTicker=false&amp;endDate=&amp;format=real&amp;legendOnChart=true&amp;maxPoints=&amp;note=&amp;partner=&amp;quoteLegend=true&amp;quotes=&amp;recessions=false&amp;redesign=false&amp;scaleType=linear&amp;securities=id:AAPL,include:true,,&amp;securityGroup=&amp;securitylistName=&amp;securitylistSecurityId=&amp;source=false&amp;splitType=single&amp;startDate=&amp;title=&amp;units=false&amp;useCustomColors=false&amp;useEstimates=false&amp;zoom=5\"></a>\n",
       "                                \n",
       "\n",
       "                                1.895\n",
       "                            \n",
       "                        </td>"
      ]
     },
     "execution_count": 112,
     "metadata": {},
     "output_type": "execute_result"
    }
   ],
   "source": [
    "table[21] #D/E:1.895"
   ]
  },
  {
   "cell_type": "code",
   "execution_count": 114,
   "metadata": {
    "scrolled": true
   },
   "outputs": [
    {
     "data": {
      "text/plain": [
       "<td class=\"col2\">\n",
       "                            \n",
       "                                \n",
       "                                    <a class=\"iconChart rt\" href=\"/companies/AAPL/chart/#/?annotations=&amp;annualizedReturns=false&amp;calcs=id:free_cash_flow,include:true,,&amp;chartType=interactive&amp;correlations=&amp;dateSelection=range&amp;displayDateRange=false&amp;displayTicker=false&amp;endDate=&amp;format=real&amp;legendOnChart=true&amp;maxPoints=&amp;note=&amp;partner=&amp;quoteLegend=true&amp;quotes=&amp;recessions=false&amp;redesign=false&amp;scaleType=linear&amp;securities=id:AAPL,include:true,,&amp;securityGroup=&amp;securitylistName=&amp;securitylistSecurityId=&amp;source=false&amp;splitType=single&amp;startDate=&amp;title=&amp;units=false&amp;useCustomColors=false&amp;useEstimates=false&amp;zoom=5\"></a>\n",
       "                                \n",
       "\n",
       "                                19.00B\n",
       "                            \n",
       "                        </td>"
      ]
     },
     "execution_count": 114,
     "metadata": {},
     "output_type": "execute_result"
    }
   ],
   "source": [
    "table[22] #FCF:19.00B"
   ]
  },
  {
   "cell_type": "markdown",
   "metadata": {},
   "source": [
    "### For all companies:"
   ]
  },
  {
   "cell_type": "code",
   "execution_count": 206,
   "metadata": {},
   "outputs": [],
   "source": [
    "#Only keep numbers\n",
    "def get_num(input_):\n",
    "    pattern = re.compile(r\"\\d+.\\d+\")\n",
    "    string = pattern.search(input_.text)\n",
    "    \n",
    "    return (string.group())"
   ]
  },
  {
   "cell_type": "code",
   "execution_count": 116,
   "metadata": {},
   "outputs": [],
   "source": [
    "company_info = {}\n",
    "\n",
    "for i in lst_symbol[1]:\n",
    "    \n",
    "    URL = \"https://ycharts.com/companies/{}\"\n",
    "    URL = URL.format(i)\n",
    "        \n",
    "    page = requests.get(URL)\n",
    "\n",
    "    soup = BeautifulSoup(page.content, \"html5lib\")\n",
    "        \n",
    "    table = soup.find_all(class_ = \"col2\")\n",
    "    \n",
    "\n",
    "    info = {}\n",
    "    info[\"Profit\"] = get_num(table[5])\n",
    "    info[\"DY\"] = get_num(table[11])\n",
    "    info[\"PS\"] = get_num(table[16])\n",
    "    info[\"PE\"] = get_num(table[17])\n",
    "    info[\"PB\"] = get_num(table[18])\n",
    "    info[\"DE\"] = get_num(table[21])\n",
    "    info[\"FCF\"] = get_num(table[22])\n",
    "\n",
    "    company_info[i] = info "
   ]
  },
  {
   "cell_type": "code",
   "execution_count": 92,
   "metadata": {},
   "outputs": [],
   "source": [
    "company_financials = pd.DataFrame(company_info.items(), columns=['Symbol', 'Financials'])"
   ]
  },
  {
   "cell_type": "code",
   "execution_count": 94,
   "metadata": {},
   "outputs": [],
   "source": [
    "company_financials.to_csv('company_financials.csv', index=False)"
   ]
  },
  {
   "cell_type": "code",
   "execution_count": 181,
   "metadata": {},
   "outputs": [],
   "source": [
    "#Convert string dictionary to dictionary \n",
    "import ast \n",
    "company_financials.Financials = company_financials.Financials.apply(lambda a: ast.literal_eval(a))"
   ]
  },
  {
   "cell_type": "code",
   "execution_count": 182,
   "metadata": {},
   "outputs": [],
   "source": [
    "#Unpack dictionary \n",
    "elements = company_financials.Financials.apply(pd.Series)"
   ]
  },
  {
   "cell_type": "code",
   "execution_count": 183,
   "metadata": {},
   "outputs": [],
   "source": [
    "company_financials = company_financials.join(elements)\n",
    "company_financials = company_financials.drop(['Financials'], axis=1)"
   ]
  },
  {
   "cell_type": "code",
   "execution_count": 188,
   "metadata": {},
   "outputs": [
    {
     "data": {
      "text/html": [
       "<div>\n",
       "<style scoped>\n",
       "    .dataframe tbody tr th:only-of-type {\n",
       "        vertical-align: middle;\n",
       "    }\n",
       "\n",
       "    .dataframe tbody tr th {\n",
       "        vertical-align: top;\n",
       "    }\n",
       "\n",
       "    .dataframe thead th {\n",
       "        text-align: right;\n",
       "    }\n",
       "</style>\n",
       "<table border=\"1\" class=\"dataframe\">\n",
       "  <thead>\n",
       "    <tr style=\"text-align: right;\">\n",
       "      <th></th>\n",
       "      <th>Symbol</th>\n",
       "      <th>Profit</th>\n",
       "      <th>DY</th>\n",
       "      <th>PS</th>\n",
       "      <th>PE</th>\n",
       "      <th>PB</th>\n",
       "      <th>DE</th>\n",
       "      <th>FCF</th>\n",
       "    </tr>\n",
       "  </thead>\n",
       "  <tbody>\n",
       "    <tr>\n",
       "      <th>0</th>\n",
       "      <td>AAPL</td>\n",
       "      <td>86.80</td>\n",
       "      <td>0.59</td>\n",
       "      <td>7.049</td>\n",
       "      <td>28.14</td>\n",
       "      <td>36.970</td>\n",
       "      <td>1.8950</td>\n",
       "      <td>19.000</td>\n",
       "    </tr>\n",
       "    <tr>\n",
       "      <th>1</th>\n",
       "      <td>MSFT</td>\n",
       "      <td>61.27</td>\n",
       "      <td>0.76</td>\n",
       "      <td>13.400</td>\n",
       "      <td>36.79</td>\n",
       "      <td>15.670</td>\n",
       "      <td>0.4095</td>\n",
       "      <td>16.260</td>\n",
       "    </tr>\n",
       "    <tr>\n",
       "      <th>2</th>\n",
       "      <td>AMZN</td>\n",
       "      <td>29.44</td>\n",
       "      <td>0.00</td>\n",
       "      <td>3.900</td>\n",
       "      <td>58.75</td>\n",
       "      <td>14.870</td>\n",
       "      <td>0.4380</td>\n",
       "      <td>1.573</td>\n",
       "    </tr>\n",
       "    <tr>\n",
       "      <th>3</th>\n",
       "      <td>FB</td>\n",
       "      <td>38.96</td>\n",
       "      <td>0.00</td>\n",
       "      <td>9.859</td>\n",
       "      <td>26.50</td>\n",
       "      <td>7.296</td>\n",
       "      <td>0.0000</td>\n",
       "      <td>8.635</td>\n",
       "    </tr>\n",
       "    <tr>\n",
       "      <th>4</th>\n",
       "      <td>GOOGL</td>\n",
       "      <td>62.93</td>\n",
       "      <td>0.00</td>\n",
       "      <td>8.638</td>\n",
       "      <td>30.21</td>\n",
       "      <td>7.823</td>\n",
       "      <td>0.0603</td>\n",
       "      <td>16.390</td>\n",
       "    </tr>\n",
       "  </tbody>\n",
       "</table>\n",
       "</div>"
      ],
      "text/plain": [
       "  Symbol  Profit    DY      PS     PE      PB      DE     FCF\n",
       "0   AAPL   86.80  0.59   7.049  28.14  36.970  1.8950  19.000\n",
       "1   MSFT   61.27  0.76  13.400  36.79  15.670  0.4095  16.260\n",
       "2   AMZN   29.44  0.00   3.900  58.75  14.870  0.4380   1.573\n",
       "3     FB   38.96  0.00   9.859  26.50   7.296  0.0000   8.635\n",
       "4  GOOGL   62.93  0.00   8.638  30.21   7.823  0.0603  16.390"
      ]
     },
     "execution_count": 188,
     "metadata": {},
     "output_type": "execute_result"
    }
   ],
   "source": [
    "company_financials.head(5) "
   ]
  },
  {
   "cell_type": "markdown",
   "metadata": {},
   "source": [
    "## company_info.csv \n",
    "#### From Wikipedia (\"https://en.wikipedia.org/wiki/List_of_S%26P_500_companies\")"
   ]
  },
  {
   "cell_type": "code",
   "execution_count": 2,
   "metadata": {},
   "outputs": [],
   "source": [
    "URL = \"https://en.wikipedia.org/wiki/List_of_S%26P_500_companies\"\n",
    "page = requests.get(URL)\n",
    "soup = BeautifulSoup(page.content, \"html5lib\")\n",
    "table = soup.find('tbody')\n",
    "rows = table.find_all(\"td\")"
   ]
  },
  {
   "cell_type": "code",
   "execution_count": 13,
   "metadata": {},
   "outputs": [
    {
     "data": {
      "text/plain": [
       "<td><a class=\"external text\" href=\"https://www.nyse.com/quote/XNYS:MMM\" rel=\"nofollow\">MMM</a>\n",
       "</td>"
      ]
     },
     "execution_count": 13,
     "metadata": {},
     "output_type": "execute_result"
    }
   ],
   "source": [
    "rows[0]#symbol"
   ]
  },
  {
   "cell_type": "code",
   "execution_count": 14,
   "metadata": {},
   "outputs": [
    {
     "data": {
      "text/plain": [
       "<td><a href=\"/wiki/Saint_Paul,_Minnesota\" title=\"Saint Paul, Minnesota\">Saint Paul, Minnesota</a></td>"
      ]
     },
     "execution_count": 14,
     "metadata": {},
     "output_type": "execute_result"
    }
   ],
   "source": [
    "rows[5]#location"
   ]
  },
  {
   "cell_type": "code",
   "execution_count": 15,
   "metadata": {},
   "outputs": [
    {
     "data": {
      "text/plain": [
       "<td>1976-08-09</td>"
      ]
     },
     "execution_count": 15,
     "metadata": {},
     "output_type": "execute_result"
    }
   ],
   "source": [
    "rows[6]#date first added"
   ]
  },
  {
   "cell_type": "code",
   "execution_count": 16,
   "metadata": {},
   "outputs": [
    {
     "data": {
      "text/plain": [
       "<td>1902\n",
       "</td>"
      ]
     },
     "execution_count": 16,
     "metadata": {},
     "output_type": "execute_result"
    }
   ],
   "source": [
    "rows[8]#founding year"
   ]
  },
  {
   "cell_type": "code",
   "execution_count": 17,
   "metadata": {},
   "outputs": [],
   "source": [
    "def get_info(index,df):\n",
    "    \n",
    "    info = []\n",
    "   \n",
    "    i = index\n",
    "    while i < len(df):\n",
    "        line = df[i].text\n",
    "        line = line.strip('\\n')\n",
    "        info.append(line)\n",
    "        i = i+9 \n",
    "    \n",
    "    return info "
   ]
  },
  {
   "cell_type": "code",
   "execution_count": 18,
   "metadata": {},
   "outputs": [],
   "source": [
    "symbols = get_info(0,rows)"
   ]
  },
  {
   "cell_type": "code",
   "execution_count": 19,
   "metadata": {},
   "outputs": [
    {
     "data": {
      "text/plain": [
       "['MMM', 'ABT', 'ABBV', 'ABMD', 'ACN']"
      ]
     },
     "execution_count": 19,
     "metadata": {},
     "output_type": "execute_result"
    }
   ],
   "source": [
    "symbols[0:5]"
   ]
  },
  {
   "cell_type": "code",
   "execution_count": 20,
   "metadata": {},
   "outputs": [
    {
     "data": {
      "text/plain": [
       "['Saint Paul, Minnesota',\n",
       " 'North Chicago, Illinois',\n",
       " 'North Chicago, Illinois',\n",
       " 'Danvers, Massachusetts',\n",
       " 'Dublin, Ireland']"
      ]
     },
     "execution_count": 20,
     "metadata": {},
     "output_type": "execute_result"
    }
   ],
   "source": [
    "headquarters = get_info(5,rows)\n",
    "headquarters[0:5]"
   ]
  },
  {
   "cell_type": "code",
   "execution_count": 21,
   "metadata": {},
   "outputs": [
    {
     "data": {
      "text/plain": [
       "['1976-08-09', '1964-03-31', '2012-12-31', '2018-05-31', '2011-07-06']"
      ]
     },
     "execution_count": 21,
     "metadata": {},
     "output_type": "execute_result"
    }
   ],
   "source": [
    "add_date = get_info(6,rows)\n",
    "add_date[0:5]"
   ]
  },
  {
   "cell_type": "code",
   "execution_count": 22,
   "metadata": {},
   "outputs": [
    {
     "data": {
      "text/plain": [
       "['1902', '1888', '2013 (1888)', '1981', '1989']"
      ]
     },
     "execution_count": 22,
     "metadata": {},
     "output_type": "execute_result"
    }
   ],
   "source": [
    "founded = get_info(8,rows)\n",
    "founded[0:5]"
   ]
  },
  {
   "cell_type": "code",
   "execution_count": 23,
   "metadata": {},
   "outputs": [],
   "source": [
    "#convert lists to dictionary before creating the dataframe \n",
    "df = {'Symbol': symbols, 'Headquarter': headquarters, 'Date Added': add_date, 'Founding Year': founded}"
   ]
  },
  {
   "cell_type": "code",
   "execution_count": 1,
   "metadata": {},
   "outputs": [],
   "source": [
    "import pandas as pd"
   ]
  },
  {
   "cell_type": "code",
   "execution_count": 26,
   "metadata": {},
   "outputs": [
    {
     "data": {
      "text/html": [
       "<div>\n",
       "<style scoped>\n",
       "    .dataframe tbody tr th:only-of-type {\n",
       "        vertical-align: middle;\n",
       "    }\n",
       "\n",
       "    .dataframe tbody tr th {\n",
       "        vertical-align: top;\n",
       "    }\n",
       "\n",
       "    .dataframe thead th {\n",
       "        text-align: right;\n",
       "    }\n",
       "</style>\n",
       "<table border=\"1\" class=\"dataframe\">\n",
       "  <thead>\n",
       "    <tr style=\"text-align: right;\">\n",
       "      <th></th>\n",
       "      <th>Symbol</th>\n",
       "      <th>Headquarter</th>\n",
       "      <th>Date Added</th>\n",
       "      <th>Founding Year</th>\n",
       "    </tr>\n",
       "  </thead>\n",
       "  <tbody>\n",
       "    <tr>\n",
       "      <th>0</th>\n",
       "      <td>MMM</td>\n",
       "      <td>Saint Paul, Minnesota</td>\n",
       "      <td>1976-08-09</td>\n",
       "      <td>1902</td>\n",
       "    </tr>\n",
       "    <tr>\n",
       "      <th>1</th>\n",
       "      <td>ABT</td>\n",
       "      <td>North Chicago, Illinois</td>\n",
       "      <td>1964-03-31</td>\n",
       "      <td>1888</td>\n",
       "    </tr>\n",
       "    <tr>\n",
       "      <th>2</th>\n",
       "      <td>ABBV</td>\n",
       "      <td>North Chicago, Illinois</td>\n",
       "      <td>2012-12-31</td>\n",
       "      <td>2013 (1888)</td>\n",
       "    </tr>\n",
       "    <tr>\n",
       "      <th>3</th>\n",
       "      <td>ABMD</td>\n",
       "      <td>Danvers, Massachusetts</td>\n",
       "      <td>2018-05-31</td>\n",
       "      <td>1981</td>\n",
       "    </tr>\n",
       "    <tr>\n",
       "      <th>4</th>\n",
       "      <td>ACN</td>\n",
       "      <td>Dublin, Ireland</td>\n",
       "      <td>2011-07-06</td>\n",
       "      <td>1989</td>\n",
       "    </tr>\n",
       "  </tbody>\n",
       "</table>\n",
       "</div>"
      ],
      "text/plain": [
       "  Symbol              Headquarter  Date Added Founding Year\n",
       "0    MMM    Saint Paul, Minnesota  1976-08-09          1902\n",
       "1    ABT  North Chicago, Illinois  1964-03-31          1888\n",
       "2   ABBV  North Chicago, Illinois  2012-12-31   2013 (1888)\n",
       "3   ABMD   Danvers, Massachusetts  2018-05-31          1981\n",
       "4    ACN          Dublin, Ireland  2011-07-06          1989"
      ]
     },
     "execution_count": 26,
     "metadata": {},
     "output_type": "execute_result"
    }
   ],
   "source": [
    "df = pd.DataFrame(df)\n",
    "df[0:5]"
   ]
  },
  {
   "cell_type": "code",
   "execution_count": 27,
   "metadata": {},
   "outputs": [],
   "source": [
    "##manually check the founding years/locations of headquarters for each company \n",
    "df['Founding Year'][2] = '2013'\n",
    "df['Founding Year'][25] = '1860'\n",
    "df['Founding Year'][40] = '2004'\n",
    "df['Founding Year'][41] = '1982'\n",
    "df['Founding Year'][51] = '1983'\n",
    "df['Founding Year'][60] = '1998'\n",
    "df['Founding Year'][89] = '1915'\n",
    "df['Founding Year'][141] = '1899'\n",
    "df['Headquarter'][141] = 'York, Pennsylvania'\n",
    "df['Founding Year'][201] = '2011'\n",
    "df['Founding Year'][237] = '1939'\n",
    "df['Founding Year'][252] = '1930'\n",
    "df['Founding Year'][253] = '1958'\n",
    "df['Founding Year'][266] = '2000'\n",
    "df['Founding Year'][275] = '1997'\n",
    "df['Founding Year'][276] = '2015'\n",
    "df['Founding Year'][278] = '2019'\n",
    "df['Founding Year'][281] = '1950'\n",
    "df['Founding Year'][293] = '1921'\n",
    "df['Founding Year'][294] = '1968'\n",
    "df['Founding Year'][298] = '2009'\n",
    "df['Founding Year'][319] = '2005'\n",
    "df['Founding Year'][322] = '1935'\n",
    "df['Founding Year'][325] = '2004'\n",
    "df['Founding Year'][326] = '2011'\n",
    "df['Founding Year'][333] = '2013'\n",
    "df['Founding Year'][334] = '2013'\n",
    "df['Founding Year'][335] = '1984'\n",
    "df['Founding Year'][339] = '1990'\n",
    "df['Headquarter'][339] = 'Atlanta, Georgia'\n",
    "df['Founding Year'][341] = '1994'\n",
    "df['Founding Year'][343] = '1966'\n",
    "df['Founding Year'][357] = '1853'\n",
    "df['Founding Year'][369] = '1887'\n",
    "df['Founding Year'][371] = '1847'\n",
    "df['Founding Year'][372] = '2012'\n",
    "df['Founding Year'][400] = '1998'\n",
    "df['Founding Year'][443] = '1956'\n",
    "df['Founding Year'][470] = '1983'\n",
    "df['Founding Year'][473] = '2019'\n",
    "df['Founding Year'][479] = '1869'"
   ]
  },
  {
   "cell_type": "code",
   "execution_count": 28,
   "metadata": {},
   "outputs": [],
   "source": [
    "df['Founding Year'] = df['Founding Year'].astype(int)"
   ]
  },
  {
   "cell_type": "code",
   "execution_count": 29,
   "metadata": {},
   "outputs": [],
   "source": [
    "df.to_csv('company_info.csv', index=False)"
   ]
  },
  {
   "cell_type": "markdown",
   "metadata": {},
   "source": [
    "## company_employees.csv\n",
    "#### From CSIMarket "
   ]
  },
  {
   "cell_type": "markdown",
   "metadata": {},
   "source": [
    "### Example - AAPL Company"
   ]
  },
  {
   "cell_type": "code",
   "execution_count": 189,
   "metadata": {},
   "outputs": [],
   "source": [
    "URL = \"https://csimarket.com/stocks/at_glance.php?code=AAPL\"\n",
    "page = requests.get(URL)\n",
    "soup = BeautifulSoup(page.content, \"html5lib\")\n",
    "table = soup.find_all('table', class_ = \"comgl\")"
   ]
  },
  {
   "cell_type": "code",
   "execution_count": 194,
   "metadata": {},
   "outputs": [
    {
     "data": {
      "text/plain": [
       "[<table border=\"0\" cellpadding=\"5\" cellspacing=\"0\" class=\"comgl\">\n",
       " \n",
       "               <tbody><tr> \n",
       "                   <td class=\"al ecol\"> Market Capitalization <span class=\"malisivi\">(Millions $)</span> </td>\n",
       "                 <td class=\"b\"> \n",
       "                   2,407,004                </td>\n",
       "               </tr>\n",
       "               <tr>\n",
       "                   <td class=\"sivirub al ecol\"> Shares \n",
       "                     Outstanding <span class=\"malisivi\">(Millions)</span></td>\n",
       "                 <td class=\"sivirub b\"> \n",
       "                   16,782                </td>\n",
       "               </tr>\n",
       "               <tr> \n",
       "                   <td class=\"bijelirub al ecol\"> Employees</td>\n",
       "                 <td class=\"bijelirub b\"> \n",
       "                   137,000                </td>\n",
       "               </tr>\n",
       "               <tr> \n",
       "                   <td class=\"sivirub al ecol\"> Revenues <span class=\"malisivi\">(TTM) (Millions $)</span></td>\n",
       "                 <td class=\"sivirub b\"> \n",
       "                   347,155                </td>\n",
       "               </tr>\n",
       "               <tr> \n",
       "                   <td class=\"bijelirub al ecol\"> Net Income<span class=\"malisivi\"> (TTM) (Millions $)</span></td>\n",
       "                 <td class=\"bijelirub b\"> \n",
       "                   86,802                </td>\n",
       "               </tr>\n",
       " \t\t\t  <tr> \n",
       "                   <td class=\"sivirub al ecol\"> Cash Flow <span class=\"malisivi\">(TTM) (Millions $)</span></td>\n",
       "                 <td class=\"sivirub b\"> \n",
       "                   237                </td>\n",
       "               </tr>\n",
       "               <tr> \n",
       "                   <td class=\"bijelirub al ecol\"> Capital Exp. <span class=\"malisivi\">(TTM) (Millions $)</span> </td>\n",
       "                 <td class=\"bijelirub b\"> \n",
       "                   9,646                </td>\n",
       "               </tr>\n",
       " \t\t\t  \n",
       " \t\t\t  \n",
       " \t\t\t  \n",
       " \t\t\t  \n",
       " \t\t\t  \n",
       " \t\t\t  \n",
       "             </tbody></table>]"
      ]
     },
     "execution_count": 194,
     "metadata": {},
     "output_type": "execute_result"
    }
   ],
   "source": [
    "table"
   ]
  },
  {
   "cell_type": "markdown",
   "metadata": {},
   "source": [
    "### For all companies:"
   ]
  },
  {
   "cell_type": "code",
   "execution_count": 260,
   "metadata": {},
   "outputs": [],
   "source": [
    "def get_num(text):\n",
    "    pattern = re.compile(r\"\\d+\")\n",
    "    string = pattern.search(text)\n",
    "    \n",
    "    if string != None:\n",
    "        return (int(string.group()))\n",
    "    else:\n",
    "        return 0"
   ]
  },
  {
   "cell_type": "code",
   "execution_count": 356,
   "metadata": {},
   "outputs": [],
   "source": [
    "company_employees = {}\n",
    "\n",
    "\n",
    "for i in lst_symbol[503:]:\n",
    "   \n",
    "    URL = \"https://csimarket.com/stocks/at_glance.php?code={}\"\n",
    "    URL = URL.format(i)\n",
    "        \n",
    "    page = requests.get(URL)\n",
    "\n",
    "    soup = BeautifulSoup(page.content, \"html5lib\")\n",
    "        \n",
    "    table = soup.find_all('table', class_ = \"comgl\")\n",
    "    table = table[0].find_all('tr')\n",
    "\n",
    "    text = table[2].text\n",
    "    text = re.sub(r\"[^\\w\\s]\",'',text)\n",
    "    \n",
    "\n",
    "    company_employees[i] = get_num(text)"
   ]
  },
  {
   "cell_type": "code",
   "execution_count": 358,
   "metadata": {},
   "outputs": [],
   "source": [
    "company_employees = pd.DataFrame(company_employees.items(), columns=['Symbol', 'Employee'])\n",
    "company_employees.to_csv('company_employees.csv', index=False)"
   ]
  },
  {
   "cell_type": "code",
   "execution_count": 366,
   "metadata": {},
   "outputs": [
    {
     "data": {
      "text/html": [
       "<div>\n",
       "<style scoped>\n",
       "    .dataframe tbody tr th:only-of-type {\n",
       "        vertical-align: middle;\n",
       "    }\n",
       "\n",
       "    .dataframe tbody tr th {\n",
       "        vertical-align: top;\n",
       "    }\n",
       "\n",
       "    .dataframe thead th {\n",
       "        text-align: right;\n",
       "    }\n",
       "</style>\n",
       "<table border=\"1\" class=\"dataframe\">\n",
       "  <thead>\n",
       "    <tr style=\"text-align: right;\">\n",
       "      <th></th>\n",
       "      <th>Symbol</th>\n",
       "      <th>Employee</th>\n",
       "    </tr>\n",
       "  </thead>\n",
       "  <tbody>\n",
       "    <tr>\n",
       "      <th>0</th>\n",
       "      <td>AAPL</td>\n",
       "      <td>137000</td>\n",
       "    </tr>\n",
       "    <tr>\n",
       "      <th>1</th>\n",
       "      <td>MSFT</td>\n",
       "      <td>163000</td>\n",
       "    </tr>\n",
       "    <tr>\n",
       "      <th>2</th>\n",
       "      <td>AMZN</td>\n",
       "      <td>798000</td>\n",
       "    </tr>\n",
       "    <tr>\n",
       "      <th>3</th>\n",
       "      <td>FB</td>\n",
       "      <td>44942</td>\n",
       "    </tr>\n",
       "    <tr>\n",
       "      <th>4</th>\n",
       "      <td>GOOGL</td>\n",
       "      <td>118899</td>\n",
       "    </tr>\n",
       "  </tbody>\n",
       "</table>\n",
       "</div>"
      ],
      "text/plain": [
       "  Symbol  Employee\n",
       "0   AAPL    137000\n",
       "1   MSFT    163000\n",
       "2   AMZN    798000\n",
       "3     FB     44942\n",
       "4  GOOGL    118899"
      ]
     },
     "execution_count": 366,
     "metadata": {},
     "output_type": "execute_result"
    }
   ],
   "source": [
    "company_employees.head(5)"
   ]
  },
  {
   "cell_type": "code",
   "execution_count": null,
   "metadata": {},
   "outputs": [],
   "source": []
  },
  {
   "cell_type": "markdown",
   "metadata": {},
   "source": [
    "### Up to date (9/9/2021) S&P 500 companies By Weight\n",
    "https://www.slickcharts.com/sp500"
   ]
  },
  {
   "cell_type": "code",
   "execution_count": 21,
   "metadata": {},
   "outputs": [
    {
     "name": "stdout",
     "output_type": "stream",
     "text": [
      "Collecting selenium\n",
      "  Downloading selenium-3.141.0-py2.py3-none-any.whl (904 kB)\n",
      "\u001b[K     |████████████████████████████████| 904 kB 8.2 MB/s eta 0:00:01\n",
      "\u001b[?25hRequirement already satisfied: urllib3 in /Library/Frameworks/Python.framework/Versions/3.9/lib/python3.9/site-packages (from selenium) (1.26.2)\n",
      "Installing collected packages: selenium\n",
      "Successfully installed selenium-3.141.0\n",
      "\u001b[33mWARNING: You are using pip version 21.1.3; however, version 21.2.4 is available.\n",
      "You should consider upgrading via the '/Library/Frameworks/Python.framework/Versions/3.9/bin/python3.9 -m pip install --upgrade pip' command.\u001b[0m\n",
      "Note: you may need to restart the kernel to use updated packages.\n"
     ]
    }
   ],
   "source": [
    "pip install selenium"
   ]
  },
  {
   "cell_type": "code",
   "execution_count": 33,
   "metadata": {},
   "outputs": [],
   "source": [
    "from selenium import webdriver"
   ]
  },
  {
   "cell_type": "code",
   "execution_count": 31,
   "metadata": {},
   "outputs": [],
   "source": [
    "URL = \"https://www.slickcharts.com/sp500\""
   ]
  },
  {
   "cell_type": "markdown",
   "metadata": {},
   "source": [
    "### Render javascript to extract the data \n",
    "1. Download chromedriver from https://sites.google.com/chromium.org/driver/\n",
    "2. set the chromedriver path to '/usr/local/bin/chromedriver' by using the terminal command 'sudo mv -f chromedriver /usr/local/bin/chromedriver' (if you downloaded the chromedriver to current directory)"
   ]
  },
  {
   "cell_type": "code",
   "execution_count": 32,
   "metadata": {},
   "outputs": [],
   "source": [
    "driver = webdriver.Chrome('/usr/local/bin/chromedriver')"
   ]
  },
  {
   "cell_type": "code",
   "execution_count": 33,
   "metadata": {},
   "outputs": [],
   "source": [
    "driver.get(URL)"
   ]
  },
  {
   "cell_type": "code",
   "execution_count": 34,
   "metadata": {},
   "outputs": [],
   "source": [
    "html = driver.page_source"
   ]
  },
  {
   "cell_type": "code",
   "execution_count": 38,
   "metadata": {},
   "outputs": [],
   "source": [
    "soup = BeautifulSoup(html, 'html5lib') "
   ]
  },
  {
   "cell_type": "code",
   "execution_count": 39,
   "metadata": {},
   "outputs": [
    {
     "data": {
      "text/plain": [
       "[<td>1</td>,\n",
       " <td><a href=\"/symbol/AAPL\">Apple Inc.</a></td>,\n",
       " <td><a href=\"/symbol/AAPL\">AAPL</a></td>,\n",
       " <td>6.160825</td>,\n",
       " <td class=\"text-nowrap\"><img alt=\"\" src=\"/img/down.gif\"/>   145.75</td>]"
      ]
     },
     "execution_count": 39,
     "metadata": {},
     "output_type": "execute_result"
    }
   ],
   "source": [
    "table = soup.find_all(\"td\")\n",
    "table[0:5]"
   ]
  },
  {
   "cell_type": "code",
   "execution_count": 41,
   "metadata": {},
   "outputs": [
    {
     "data": {
      "text/plain": [
       "<td>1</td>"
      ]
     },
     "execution_count": 41,
     "metadata": {},
     "output_type": "execute_result"
    }
   ],
   "source": [
    "table[0] #rank"
   ]
  },
  {
   "cell_type": "code",
   "execution_count": 42,
   "metadata": {},
   "outputs": [
    {
     "data": {
      "text/plain": [
       "<td><a href=\"/symbol/AAPL\">AAPL</a></td>"
      ]
     },
     "execution_count": 42,
     "metadata": {},
     "output_type": "execute_result"
    }
   ],
   "source": [
    "table[2] #symbol"
   ]
  },
  {
   "cell_type": "code",
   "execution_count": 43,
   "metadata": {},
   "outputs": [
    {
     "data": {
      "text/plain": [
       "<td>6.160825</td>"
      ]
     },
     "execution_count": 43,
     "metadata": {},
     "output_type": "execute_result"
    }
   ],
   "source": [
    "table[3] #index weight"
   ]
  },
  {
   "cell_type": "code",
   "execution_count": 44,
   "metadata": {},
   "outputs": [],
   "source": [
    "def get_info(index,df):\n",
    "    \n",
    "    info = []\n",
    "   \n",
    "    i = index\n",
    "    while i < len(df):\n",
    "        line = df[i].text\n",
    "        line = line.strip('\\n')\n",
    "        info.append(line)\n",
    "        i = i+7 \n",
    "    \n",
    "    return info "
   ]
  },
  {
   "cell_type": "code",
   "execution_count": 45,
   "metadata": {},
   "outputs": [
    {
     "data": {
      "text/plain": [
       "['1', '2', '3', '4', '5']"
      ]
     },
     "execution_count": 45,
     "metadata": {},
     "output_type": "execute_result"
    }
   ],
   "source": [
    "rank = get_info(0,table)\n",
    "rank[0:5]"
   ]
  },
  {
   "cell_type": "code",
   "execution_count": 46,
   "metadata": {},
   "outputs": [
    {
     "data": {
      "text/plain": [
       "['AAPL', 'MSFT', 'AMZN', 'FB', 'GOOGL']"
      ]
     },
     "execution_count": 46,
     "metadata": {},
     "output_type": "execute_result"
    }
   ],
   "source": [
    "symbols = get_info(2,table)\n",
    "symbols[0:5]"
   ]
  },
  {
   "cell_type": "code",
   "execution_count": 47,
   "metadata": {},
   "outputs": [
    {
     "data": {
      "text/plain": [
       "['6.160825', '6.067927', '3.9471', '2.359494', '2.280477']"
      ]
     },
     "execution_count": 47,
     "metadata": {},
     "output_type": "execute_result"
    }
   ],
   "source": [
    "weights = get_info(3,table)\n",
    "weights[0:5]"
   ]
  },
  {
   "cell_type": "code",
   "execution_count": 48,
   "metadata": {},
   "outputs": [],
   "source": [
    "df = {'Rank': rank, 'Symbol': symbols, 'Weight': weights}"
   ]
  },
  {
   "cell_type": "code",
   "execution_count": 49,
   "metadata": {},
   "outputs": [
    {
     "data": {
      "text/html": [
       "<div>\n",
       "<style scoped>\n",
       "    .dataframe tbody tr th:only-of-type {\n",
       "        vertical-align: middle;\n",
       "    }\n",
       "\n",
       "    .dataframe tbody tr th {\n",
       "        vertical-align: top;\n",
       "    }\n",
       "\n",
       "    .dataframe thead th {\n",
       "        text-align: right;\n",
       "    }\n",
       "</style>\n",
       "<table border=\"1\" class=\"dataframe\">\n",
       "  <thead>\n",
       "    <tr style=\"text-align: right;\">\n",
       "      <th></th>\n",
       "      <th>Rank</th>\n",
       "      <th>Symbol</th>\n",
       "      <th>Weight</th>\n",
       "    </tr>\n",
       "  </thead>\n",
       "  <tbody>\n",
       "    <tr>\n",
       "      <th>0</th>\n",
       "      <td>1</td>\n",
       "      <td>AAPL</td>\n",
       "      <td>6.160825</td>\n",
       "    </tr>\n",
       "    <tr>\n",
       "      <th>1</th>\n",
       "      <td>2</td>\n",
       "      <td>MSFT</td>\n",
       "      <td>6.067927</td>\n",
       "    </tr>\n",
       "    <tr>\n",
       "      <th>2</th>\n",
       "      <td>3</td>\n",
       "      <td>AMZN</td>\n",
       "      <td>3.9471</td>\n",
       "    </tr>\n",
       "    <tr>\n",
       "      <th>3</th>\n",
       "      <td>4</td>\n",
       "      <td>FB</td>\n",
       "      <td>2.359494</td>\n",
       "    </tr>\n",
       "    <tr>\n",
       "      <th>4</th>\n",
       "      <td>5</td>\n",
       "      <td>GOOGL</td>\n",
       "      <td>2.280477</td>\n",
       "    </tr>\n",
       "  </tbody>\n",
       "</table>\n",
       "</div>"
      ],
      "text/plain": [
       "  Rank Symbol    Weight\n",
       "0    1   AAPL  6.160825\n",
       "1    2   MSFT  6.067927\n",
       "2    3   AMZN    3.9471\n",
       "3    4     FB  2.359494\n",
       "4    5  GOOGL  2.280477"
      ]
     },
     "execution_count": 49,
     "metadata": {},
     "output_type": "execute_result"
    }
   ],
   "source": [
    "company_by_weight = pd.DataFrame(df)\n",
    "company_by_weight[0:5]"
   ]
  },
  {
   "cell_type": "code",
   "execution_count": 50,
   "metadata": {},
   "outputs": [],
   "source": [
    "company_by_weight['Rank'] = company_by_weight['Rank'].astype(int)\n",
    "company_by_weight['Weight'] = company_by_weight['Weight'].astype(float)"
   ]
  },
  {
   "cell_type": "code",
   "execution_count": 51,
   "metadata": {},
   "outputs": [],
   "source": [
    "company_by_weight.to_csv('company_by_weight.csv', index=False)"
   ]
  },
  {
   "cell_type": "code",
   "execution_count": 388,
   "metadata": {},
   "outputs": [],
   "source": [
    "def get_text(link):\n",
    "    driver = webdriver.Chrome('/usr/local/bin/chromedriver')\n",
    "    driver.get(link)\n",
    "    html = driver.page_source\n",
    "    soup = BeautifulSoup(html, 'html5lib') \n",
    "    table = soup.find_all(class_ = \"revenue-eps__table-body\")\n",
    "    driver.close()\n",
    "   \n",
    "    return(table)"
   ]
  }
 ],
 "metadata": {
  "kernelspec": {
   "display_name": "Python 3",
   "language": "python",
   "name": "python3"
  },
  "language_info": {
   "codemirror_mode": {
    "name": "ipython",
    "version": 3
   },
   "file_extension": ".py",
   "mimetype": "text/x-python",
   "name": "python",
   "nbconvert_exporter": "python",
   "pygments_lexer": "ipython3",
   "version": "3.9.6"
  }
 },
 "nbformat": 4,
 "nbformat_minor": 4
}
